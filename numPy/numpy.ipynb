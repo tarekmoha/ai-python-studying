{
 "cells": [
  {
   "cell_type": "markdown",
   "metadata": {},
   "source": [
    "# Numpy Library:"
   ]
  },
  {
   "cell_type": "markdown",
   "metadata": {},
   "source": [
    "<p><b>It's A library that have been build on top of C, for effecient scientific calculations. </b></p>\n",
    "\n",
    "### Nd arrays:\n",
    "- Multi dimensional array that hold a group of elements that forces it to have the same type.\n",
    "- Much faster than plain python because it's buil on top of C\n",
    "- Can have any dimensionality Unlike\n",
    "- Describes Memory as follows:\n",
    "    - Data Pointer: Base address or the address of the  first byte.\n",
    "    - Data Type Describion: Type of the data inside the array\n",
    "    - Shape: shape of array\n",
    "    - Strides: Number of bytes to proceed to the nest item (rows_bytes, columns_bytes)\n",
    "    - F;ags: Aloowed to edit the array or not.\n",
    "    \n",
    "**View of an array:**\n",
    "<p> When we use an array to reference to naother array and if we change any element of any one of these we change the other one to</p>\n",
    "\n",
    "`y = x[::2, ::2]`\n",
    "\n",
    "<p> the difference that they are pointing to the same memory but with different strides</p>\n",
    "\n",
    "\n",
    "**Usage of strides:**\n",
    "\n",
    "-We can reshape or transpose the array with no cost of memory by changing them.\n",
    "\n",
    "\n",
    "**NOTE:** The strides, shape and dtype of the array can be modified by the user.\n",
    "\n",
    "\n",
    "#### 1.1  Vectorisation: \n",
    "\n",
    "**Grouping these element-wise operations together, allows numpy to perform a computayions rapidly using broadcasting**\n",
    "\n",
    "#### 1.2  Broadcasting:\n",
    "\n",
    "**Expanding the arrays so that operation becoms viable, Not physically constructed , it uses the appropraite array elements**\n",
    "-  Dimensions are suitably mathed, or it will be the learger one\n",
    "\n",
    "### Code:"
   ]
  },
  {
   "cell_type": "code",
   "execution_count": 27,
   "metadata": {},
   "outputs": [],
   "source": [
    "#1. Importing Numpy:\n",
    "import numpy as np"
   ]
  },
  {
   "cell_type": "markdown",
   "metadata": {},
   "source": [
    "## Creting ndArrays:"
   ]
  },
  {
   "cell_type": "code",
   "execution_count": 29,
   "metadata": {},
   "outputs": [],
   "source": [
    "#2. Creating and saving numpy arrays:\n",
    "\n",
    "#2.1 create from other arryas or lists:\n",
    "x= np.array([2,5,6,9])\n",
    "\n",
    "#2.2 Using Numpy built-in function that quickly generates a numpy\n",
    "zeres_array = np.zeros((3,4), dtype=np.int64)\n",
    "ones_array = np.ones((4,6))\n",
    "filled_by_constant = np.full((5,4), 7)\n",
    "identitiy_matrix = np.eye(7)\n",
    "diagonal_array = np.diag([15,20,14,19])\n",
    "evenly_setp_range_array = np.arange(1,5,1) #(Start-inclusive, stop-exlusive, step-Default = 1)\n",
    "evenly_nummber_of_elmetnts_in_range = np.linspace(1,100,50) #(start-inclusive, stop-inclusive, number of elements)\n",
    "\n",
    "#2.3 Using random module:\n",
    "#Between 1 exclusive and 0 inclusive\n",
    "from_0_to_1_random_shaped = np.random.random((2,2))\n",
    "#in a given interver\n",
    "interval = np.random.randint(2,10,(1,5)) #(Start, stop-exclusive, shape)\n",
    "#With statistical properties:\n",
    "noremal_distribuation = np.random.normal(0,1,size=(1000,1000)) #Normal dist with mean of 0 and shape of 1000 1000 and std of 1\n"
   ]
  },
  {
   "cell_type": "markdown",
   "metadata": {},
   "source": [
    "## Getting Information about the array:"
   ]
  },
  {
   "cell_type": "code",
   "execution_count": 30,
   "metadata": {},
   "outputs": [
    {
     "name": "stdout",
     "output_type": "stream",
     "text": [
      "int32\n",
      "(4,)\n",
      "4\n",
      "1\n"
     ]
    }
   ],
   "source": [
    "#3. Useful functions to provide information about the arrays:\n",
    "# 3.1 Getting the type of the array elements:\n",
    "print(x.dtype)\n",
    "# 3.1 Shape and dimension:\n",
    "print(x.shape)\n",
    "# 3.2 number of elements inside the array:\n",
    "print(x.size)\n",
    "#3.4 Rank of the array:\n",
    "print(x.ndim)"
   ]
  },
  {
   "cell_type": "markdown",
   "metadata": {},
   "source": [
    "#### Upcasting: \n",
    "\n",
    "when numpy upcasts one data type to another in the array to be at the smae type. (integer to float)"
   ]
  },
  {
   "cell_type": "code",
   "execution_count": 31,
   "metadata": {},
   "outputs": [],
   "source": [
    "# 3.4 Specifying the data type when creting an array\n",
    "y= np.array([2.3,6,4], dtype = np.int64)"
   ]
  },
  {
   "cell_type": "code",
   "execution_count": 32,
   "metadata": {},
   "outputs": [
    {
     "name": "stdout",
     "output_type": "stream",
     "text": [
      "[2 6 4]\n"
     ]
    }
   ],
   "source": [
    "print(y)"
   ]
  },
  {
   "cell_type": "code",
   "execution_count": 33,
   "metadata": {},
   "outputs": [],
   "source": [
    "# 4 Saving array:\n",
    "np.save(\"my_array\", y)"
   ]
  },
  {
   "cell_type": "code",
   "execution_count": 34,
   "metadata": {},
   "outputs": [
    {
     "name": "stdout",
     "output_type": "stream",
     "text": [
      "[2 6 4]\n"
     ]
    }
   ],
   "source": [
    "# 5. Loading an array file:\n",
    "z= np.load(\"my_array.npy\")\n",
    "print(z)"
   ]
  },
  {
   "cell_type": "markdown",
   "metadata": {},
   "source": [
    "## Reshaping the array:"
   ]
  },
  {
   "cell_type": "code",
   "execution_count": 35,
   "metadata": {},
   "outputs": [],
   "source": [
    "#Resahping an array\n",
    "reshped  = np.reshape(evenly_setp_range_array, (2,2))"
   ]
  },
  {
   "cell_type": "markdown",
   "metadata": {},
   "source": [
    "## Accessing Elements:"
   ]
  },
  {
   "cell_type": "code",
   "execution_count": 41,
   "metadata": {},
   "outputs": [],
   "source": [
    "aa = np.arange(0,6)"
   ]
  },
  {
   "cell_type": "code",
   "execution_count": 42,
   "metadata": {},
   "outputs": [
    {
     "name": "stdout",
     "output_type": "stream",
     "text": [
      "1 5\n"
     ]
    }
   ],
   "source": [
    "print(aa[1], aa[-1])#postitive and negative indexing"
   ]
  },
  {
   "cell_type": "markdown",
   "metadata": {},
   "source": [
    "## Modifying:"
   ]
  },
  {
   "cell_type": "code",
   "execution_count": 43,
   "metadata": {},
   "outputs": [],
   "source": [
    "aa[3] = 20"
   ]
  },
  {
   "cell_type": "code",
   "execution_count": 50,
   "metadata": {},
   "outputs": [],
   "source": [
    "m = aa.reshape(3,2)"
   ]
  },
  {
   "cell_type": "code",
   "execution_count": 51,
   "metadata": {},
   "outputs": [],
   "source": [
    "m[1,1] = 18"
   ]
  },
  {
   "cell_type": "code",
   "execution_count": 52,
   "metadata": {},
   "outputs": [
    {
     "data": {
      "text/plain": [
       "array([[ 0,  1],\n",
       "       [ 2, 18],\n",
       "       [ 4,  5]])"
      ]
     },
     "execution_count": 52,
     "metadata": {},
     "output_type": "execute_result"
    }
   ],
   "source": [
    "m"
   ]
  },
  {
   "cell_type": "markdown",
   "metadata": {},
   "source": [
    "## Deleting:"
   ]
  },
  {
   "cell_type": "code",
   "execution_count": 60,
   "metadata": {},
   "outputs": [],
   "source": [
    "d = np.delete(m, [0], axis = 1)"
   ]
  },
  {
   "cell_type": "code",
   "execution_count": 61,
   "metadata": {},
   "outputs": [
    {
     "name": "stdout",
     "output_type": "stream",
     "text": [
      "[[ 1]\n",
      " [18]\n",
      " [ 5]]\n"
     ]
    }
   ],
   "source": [
    "print(d)"
   ]
  },
  {
   "cell_type": "markdown",
   "metadata": {},
   "source": [
    "## Adding Values"
   ]
  },
  {
   "cell_type": "code",
   "execution_count": 65,
   "metadata": {},
   "outputs": [],
   "source": [
    "ap = np.append(m, [[1, 4]], axis = 0)"
   ]
  },
  {
   "cell_type": "code",
   "execution_count": 66,
   "metadata": {},
   "outputs": [
    {
     "data": {
      "text/plain": [
       "array([[ 0,  1],\n",
       "       [ 2, 18],\n",
       "       [ 4,  5],\n",
       "       [ 1,  4]])"
      ]
     },
     "execution_count": 66,
     "metadata": {},
     "output_type": "execute_result"
    }
   ],
   "source": [
    "ap"
   ]
  },
  {
   "cell_type": "code",
   "execution_count": 67,
   "metadata": {},
   "outputs": [
    {
     "data": {
      "text/plain": [
       "array([2, 3, 4, 5, 6, 9])"
      ]
     },
     "execution_count": 67,
     "metadata": {},
     "output_type": "execute_result"
    }
   ],
   "source": [
    "inst= np.insert(x, 1, [3,4])\n",
    "inst"
   ]
  },
  {
   "cell_type": "markdown",
   "metadata": {},
   "source": [
    "## Stacking:"
   ]
  },
  {
   "cell_type": "code",
   "execution_count": 70,
   "metadata": {},
   "outputs": [],
   "source": [
    "#Horizontal:\n",
    "h_add = [[0],[4],[5],[6]]\n",
    "hstack = np.hstack((ap, h_add))\n",
    "\n",
    "#Vertial\n",
    "addd= [1,8]\n",
    "vstack = np.vstack((ap, addd))"
   ]
  },
  {
   "cell_type": "code",
   "execution_count": 74,
   "metadata": {},
   "outputs": [
    {
     "name": "stdout",
     "output_type": "stream",
     "text": [
      "[[ 0  1  0]\n",
      " [ 2 18  4]\n",
      " [ 4  5  5]\n",
      " [ 1  4  6]] \n",
      " \n",
      " [[ 0  1]\n",
      " [ 2 18]\n",
      " [ 4  5]\n",
      " [ 1  4]\n",
      " [ 1  8]]\n"
     ]
    }
   ],
   "source": [
    "print(hstack, \"\\n\", \"\\n\" , vstack)"
   ]
  },
  {
   "cell_type": "markdown",
   "metadata": {},
   "source": [
    "## Slicing:"
   ]
  },
  {
   "cell_type": "markdown",
   "metadata": {},
   "source": [
    "1. ndarray[start:end]\n",
    "2. ndarray[start:]\n",
    "3. ndarray[:end]"
   ]
  },
  {
   "cell_type": "code",
   "execution_count": 80,
   "metadata": {},
   "outputs": [],
   "source": [
    "# 2d array: \n",
    "sl = ap[1:, 1:2] # Returning 2D array View not a copy\n",
    "sl1 = ap[1:, 1] # Returning 1D Array view not a copy"
   ]
  },
  {
   "cell_type": "code",
   "execution_count": 79,
   "metadata": {},
   "outputs": [
    {
     "data": {
      "text/plain": [
       "array([[18],\n",
       "       [ 5],\n",
       "       [ 4]])"
      ]
     },
     "execution_count": 79,
     "metadata": {},
     "output_type": "execute_result"
    }
   ],
   "source": [
    "sl"
   ]
  },
  {
   "cell_type": "code",
   "execution_count": 81,
   "metadata": {},
   "outputs": [
    {
     "data": {
      "text/plain": [
       "array([18,  5,  4])"
      ]
     },
     "execution_count": 81,
     "metadata": {},
     "output_type": "execute_result"
    }
   ],
   "source": [
    "sl1"
   ]
  },
  {
   "cell_type": "markdown",
   "metadata": {},
   "source": [
    "**Note Agian:** Slicing creating a view not a copy of the array. to creat an independat copy we use copy()method."
   ]
  },
  {
   "cell_type": "code",
   "execution_count": 82,
   "metadata": {},
   "outputs": [],
   "source": [
    "sl = sl.copy()"
   ]
  },
  {
   "cell_type": "code",
   "execution_count": 83,
   "metadata": {},
   "outputs": [],
   "source": [
    "sl[1,0] = 12"
   ]
  },
  {
   "cell_type": "code",
   "execution_count": 84,
   "metadata": {},
   "outputs": [
    {
     "data": {
      "text/plain": [
       "array([[ 0,  1],\n",
       "       [ 2, 18],\n",
       "       [ 4,  5],\n",
       "       [ 1,  4]])"
      ]
     },
     "execution_count": 84,
     "metadata": {},
     "output_type": "execute_result"
    }
   ],
   "source": [
    "ap"
   ]
  },
  {
   "cell_type": "code",
   "execution_count": 85,
   "metadata": {},
   "outputs": [
    {
     "data": {
      "text/plain": [
       "array([[18],\n",
       "       [12],\n",
       "       [ 4]])"
      ]
     },
     "execution_count": 85,
     "metadata": {},
     "output_type": "execute_result"
    }
   ],
   "source": [
    "sl"
   ]
  },
  {
   "cell_type": "code",
   "execution_count": 88,
   "metadata": {},
   "outputs": [],
   "source": [
    "## Accessing the diagonal \n",
    "# d= np.diag([1,2,56,8])\n",
    "d= np.diag(np.diag([2,5,8,9,10]))"
   ]
  },
  {
   "cell_type": "code",
   "execution_count": 89,
   "metadata": {},
   "outputs": [
    {
     "data": {
      "text/plain": [
       "array([ 2,  5,  8,  9, 10])"
      ]
     },
     "execution_count": 89,
     "metadata": {},
     "output_type": "execute_result"
    }
   ],
   "source": [
    "d"
   ]
  },
  {
   "cell_type": "markdown",
   "metadata": {},
   "source": [
    "#### We can select the above and the below of the diagonal with k parameter"
   ]
  },
  {
   "cell_type": "code",
   "execution_count": 92,
   "metadata": {},
   "outputs": [],
   "source": [
    "un = np.unique(d) # Sorted unique elements"
   ]
  },
  {
   "cell_type": "code",
   "execution_count": 93,
   "metadata": {},
   "outputs": [
    {
     "data": {
      "text/plain": [
       "array([ 2,  5,  8,  9, 10])"
      ]
     },
     "execution_count": 93,
     "metadata": {},
     "output_type": "execute_result"
    }
   ],
   "source": [
    "un"
   ]
  },
  {
   "cell_type": "markdown",
   "metadata": {},
   "source": [
    "## Boolean indexing:"
   ]
  },
  {
   "cell_type": "code",
   "execution_count": 95,
   "metadata": {},
   "outputs": [],
   "source": [
    "r = ap[(ap > 3)]"
   ]
  },
  {
   "cell_type": "code",
   "execution_count": 96,
   "metadata": {},
   "outputs": [
    {
     "data": {
      "text/plain": [
       "array([18,  4,  5,  4])"
      ]
     },
     "execution_count": 96,
     "metadata": {},
     "output_type": "execute_result"
    }
   ],
   "source": [
    "r"
   ]
  },
  {
   "cell_type": "markdown",
   "metadata": {},
   "source": [
    "## Set operations in numpy array:"
   ]
  },
  {
   "cell_type": "code",
   "execution_count": 97,
   "metadata": {},
   "outputs": [],
   "source": [
    "#instersectd\n",
    "#uniond\n",
    "#setdiff1d"
   ]
  },
  {
   "cell_type": "markdown",
   "metadata": {},
   "source": [
    "## Sorting:\n",
    ".sort() --> inplace \"\\n\"\n",
    "sort(array, ascending=False, axis=0or1) --> out of place"
   ]
  },
  {
   "cell_type": "code",
   "execution_count": null,
   "metadata": {},
   "outputs": [],
   "source": []
  }
 ],
 "metadata": {
  "kernelspec": {
   "display_name": "Python 3",
   "language": "python",
   "name": "python3"
  },
  "language_info": {
   "codemirror_mode": {
    "name": "ipython",
    "version": 3
   },
   "file_extension": ".py",
   "mimetype": "text/x-python",
   "name": "python",
   "nbconvert_exporter": "python",
   "pygments_lexer": "ipython3",
   "version": "3.8.5"
  }
 },
 "nbformat": 4,
 "nbformat_minor": 4
}
